{
 "cells": [
  {
   "cell_type": "markdown",
   "metadata": {},
   "source": [
    "# HW3 - Q3 [35 pts]"
   ]
  },
  {
   "cell_type": "markdown",
   "metadata": {},
   "source": [
    "## Important Notices\n",
    "\n",
    "<div class=\"alert alert-block alert-danger\">\n",
    "    WARNING: Do <strong>NOT</strong> add any cells to this Jupyter Notebook, because that will crash the autograder.\n",
    "</div>\n",
    "\n",
    "<div class=\"alert alert-block alert-danger\">\n",
    "    WARNING: Do <strong>NOT</strong> implement any additional libraries into this workbook.\n",
    "</div>\n",
    "\n",
    "All instructions, code comments, etc. in this notebook **are part of the assignment instructions**. That is, if there is instructions about completing a task in this notebook, that task is not optional.  \n",
    "\n",
    "<div class=\"alert alert-block alert-info\">\n",
    "    You <strong>must</strong> implement the following functions in this notebook to receive credit.\n",
    "</div>\n",
    "\n",
    "`user()`\n",
    "\n",
    "`bucket()`\n",
    "\n",
    "`long_trips()`\n",
    "\n",
    "`manhattan_trips()`\n",
    "\n",
    "`weighted_profit()`\n",
    "\n",
    "`final_output()`\n",
    "\n",
    "Each method will be auto-graded using different sets of parameters or data, to ensure that values are not hard-coded.  You may assume we will only use your code to work with data from the NYC-TLC dataset during auto-grading.\n",
    "\n",
    "<div class=\"alert alert-block alert-danger\">\n",
    "    WARNING: Do <strong>NOT</strong> remove or modify the following utility functions:\n",
    "</div>\n",
    "\n",
    "`load_data()`\n",
    "\n",
    "`main()`"
   ]
  },
  {
   "cell_type": "markdown",
   "metadata": {},
   "source": [
    "<div class=\"alert alert-block alert-info\">\n",
    "    Do <strong>not</strong> change the below cell. Run it to initialize your PySpark instance. If you don't get any output, make sure your Notebook's Kernel is set to \"PySpark\" in the top right corner.\n",
    "</div>"
   ]
  },
  {
   "cell_type": "code",
   "execution_count": 1,
   "metadata": {},
   "outputs": [
    {
     "data": {
      "application/vnd.jupyter.widget-view+json": {
       "model_id": "e9a27f838e774589a00331f540fefe6c",
       "version_major": 2,
       "version_minor": 0
      },
      "text/plain": [
       "VBox()"
      ]
     },
     "metadata": {},
     "output_type": "display_data"
    },
    {
     "name": "stdout",
     "output_type": "stream",
     "text": [
      "Starting Spark application\n"
     ]
    },
    {
     "data": {
      "text/html": [
       "<table>\n",
       "<tr><th>ID</th><th>YARN Application ID</th><th>Kind</th><th>State</th><th>Spark UI</th><th>Driver log</th><th>Current session?</th></tr><tr><td>1</td><td>application_1615666998569_0002</td><td>pyspark</td><td>idle</td><td><a target=\"_blank\" href=\"http://ip-172-31-83-111.ec2.internal:20888/proxy/application_1615666998569_0002/\" >Link</a></td><td><a target=\"_blank\" href=\"http://ip-172-31-83-165.ec2.internal:8042/node/containerlogs/container_1615666998569_0002_01_000001/livy\" >Link</a></td><td>✔</td></tr></table>"
      ],
      "text/plain": [
       "<IPython.core.display.HTML object>"
      ]
     },
     "metadata": {},
     "output_type": "display_data"
    },
    {
     "data": {
      "application/vnd.jupyter.widget-view+json": {
       "model_id": "",
       "version_major": 2,
       "version_minor": 0
      },
      "text/plain": [
       "FloatProgress(value=0.0, bar_style='info', description='Progress:', layout=Layout(height='25px', width='50%'),…"
      ]
     },
     "metadata": {},
     "output_type": "display_data"
    },
    {
     "name": "stdout",
     "output_type": "stream",
     "text": [
      "SparkSession available as 'spark'.\n"
     ]
    },
    {
     "data": {
      "application/vnd.jupyter.widget-view+json": {
       "model_id": "",
       "version_major": 2,
       "version_minor": 0
      },
      "text/plain": [
       "FloatProgress(value=0.0, bar_style='info', description='Progress:', layout=Layout(height='25px', width='50%'),…"
      ]
     },
     "metadata": {},
     "output_type": "display_data"
    },
    {
     "name": "stdout",
     "output_type": "stream",
     "text": [
      "<SparkContext master=yarn appName=livy-session-1>"
     ]
    }
   ],
   "source": [
    "sc"
   ]
  },
  {
   "cell_type": "markdown",
   "metadata": {},
   "source": [
    "<div class=\"alert alert-block alert-danger\">\n",
    "    WARNING: Do <strong>NOT</strong> remodify the below cell. It contains the function for loading data and all imports, and the function for running your code.\n",
    "</div>"
   ]
  },
  {
   "cell_type": "code",
   "execution_count": 2,
   "metadata": {},
   "outputs": [
    {
     "data": {
      "application/vnd.jupyter.widget-view+json": {
       "model_id": "e4ca83e8e1014e1db349dcc7a6281c4c",
       "version_major": 2,
       "version_minor": 0
      },
      "text/plain": [
       "VBox()"
      ]
     },
     "metadata": {},
     "output_type": "display_data"
    },
    {
     "data": {
      "application/vnd.jupyter.widget-view+json": {
       "model_id": "",
       "version_major": 2,
       "version_minor": 0
      },
      "text/plain": [
       "FloatProgress(value=0.0, bar_style='info', description='Progress:', layout=Layout(height='25px', width='50%'),…"
      ]
     },
     "metadata": {},
     "output_type": "display_data"
    }
   ],
   "source": [
    "#### DO NOT CHANGE ANYTHING IN THIS CELL ####\n",
    "\n",
    "from pyspark.sql.functions import col\n",
    "from pyspark.sql import *\n",
    "\n",
    "def load_data(size='small'):\n",
    "    # Loads the data for this question. Do not change this function.\n",
    "    # This function should only be called with the parameter 'small' or 'large'\n",
    "    \n",
    "    if size != 'small' and size != 'large':\n",
    "        print(\"Invalid size parameter provided. Use only 'small' or 'large'.\")\n",
    "        return\n",
    "    \n",
    "    input_bucket = \"s3://cse6242-spring2021\"\n",
    "    \n",
    "    # Load Trip Data\n",
    "    trip_path = '/'+size+'/yellow_tripdata*'\n",
    "    trips = spark.read.csv(input_bucket + trip_path, header=True, inferSchema=True)\n",
    "    print(\"Trip Count: \",trips.count()) # Prints # of trips (# of records, as each record is one trip)\n",
    "    \n",
    "    # Load Lookup Data\n",
    "    lookup_path = '/'+size+'/taxi*'\n",
    "    lookup = spark.read.csv(input_bucket + lookup_path, header=True, inferSchema=True)\n",
    "    \n",
    "    return trips, lookup\n",
    "\n",
    "def main(size, bucket):\n",
    "    # Runs your functions implemented above.\n",
    "    \n",
    "    print(user())\n",
    "    trips, lookup = load_data(size=size)\n",
    "    trips = long_trips(trips)\n",
    "    mtrips = manhattan_trips(trips, lookup)\n",
    "    wp = weighted_profit(trips, mtrips)\n",
    "    final = final_output(wp,lookup)\n",
    "    \n",
    "    # Outputs the results for you to visually see\n",
    "    final.show()\n",
    "    \n",
    "    # Writes out as a CSV to your bucket.\n",
    "    final.write.csv(bucket)"
   ]
  },
  {
   "cell_type": "markdown",
   "metadata": {},
   "source": [
    "# Implement the below functions for this assignment:\n",
    "<div class=\"alert alert-block alert-danger\">\n",
    "    WARNING: Do <strong>NOT</strong> change any function inputs or outputs, and ensure that the dataframes your code returns align with the schema definitions commented in each function\n",
    "</div>"
   ]
  },
  {
   "cell_type": "markdown",
   "metadata": {},
   "source": [
    "## 3a. [1 pt] Update the `user()` function\n",
    "This function should return your GT username, eg: gburdell3"
   ]
  },
  {
   "cell_type": "code",
   "execution_count": 3,
   "metadata": {},
   "outputs": [
    {
     "data": {
      "application/vnd.jupyter.widget-view+json": {
       "model_id": "0b5db91c52b4455bb1f02f1de765e982",
       "version_major": 2,
       "version_minor": 0
      },
      "text/plain": [
       "VBox()"
      ]
     },
     "metadata": {},
     "output_type": "display_data"
    },
    {
     "data": {
      "application/vnd.jupyter.widget-view+json": {
       "model_id": "",
       "version_major": 2,
       "version_minor": 0
      },
      "text/plain": [
       "FloatProgress(value=0.0, bar_style='info', description='Progress:', layout=Layout(height='25px', width='50%'),…"
      ]
     },
     "metadata": {},
     "output_type": "display_data"
    }
   ],
   "source": [
    "def user():\n",
    "    # Returns a string consisting of your GT username.\n",
    "    return 'icanlapan3'"
   ]
  },
  {
   "cell_type": "markdown",
   "metadata": {},
   "source": [
    "## 3b. [2 pts] Update the `long_trips()` function\n",
    "This function filters trips to keep only trips greater than or equal to 2 miles."
   ]
  },
  {
   "cell_type": "code",
   "execution_count": 4,
   "metadata": {},
   "outputs": [
    {
     "data": {
      "application/vnd.jupyter.widget-view+json": {
       "model_id": "23d1d240480f44b58a002634c60ea69d",
       "version_major": 2,
       "version_minor": 0
      },
      "text/plain": [
       "VBox()"
      ]
     },
     "metadata": {},
     "output_type": "display_data"
    },
    {
     "data": {
      "application/vnd.jupyter.widget-view+json": {
       "model_id": "",
       "version_major": 2,
       "version_minor": 0
      },
      "text/plain": [
       "FloatProgress(value=0.0, bar_style='info', description='Progress:', layout=Layout(height='25px', width='50%'),…"
      ]
     },
     "metadata": {},
     "output_type": "display_data"
    }
   ],
   "source": [
    "def long_trips(trips):\n",
    "    # Returns a Dataframe with Schema the same as :trips:\n",
    "    return trips.filter(trips.trip_distance >= 2)"
   ]
  },
  {
   "cell_type": "markdown",
   "metadata": {},
   "source": [
    "## 3c. [6 pts] Update the `manhattan_trips()` function\n",
    "\n",
    "This function determines the top 20 locations with a `DOLocationID` in manhattan by passenger_count (pcount).\n",
    "\n",
    "Example output formatting:\n",
    "\n",
    "```\n",
    "+--------------+--------+\n",
    "| DOLocationID | pcount |\n",
    "+--------------+--------+\n",
    "|             5|      15|\n",
    "|            16|      12| \n",
    "+--------------+--------+\n",
    "```"
   ]
  },
  {
   "cell_type": "code",
   "execution_count": 5,
   "metadata": {},
   "outputs": [
    {
     "data": {
      "application/vnd.jupyter.widget-view+json": {
       "model_id": "6e87400f6e7e492fb3067f6d5e4f730d",
       "version_major": 2,
       "version_minor": 0
      },
      "text/plain": [
       "VBox()"
      ]
     },
     "metadata": {},
     "output_type": "display_data"
    },
    {
     "data": {
      "application/vnd.jupyter.widget-view+json": {
       "model_id": "",
       "version_major": 2,
       "version_minor": 0
      },
      "text/plain": [
       "FloatProgress(value=0.0, bar_style='info', description='Progress:', layout=Layout(height='25px', width='50%'),…"
      ]
     },
     "metadata": {},
     "output_type": "display_data"
    }
   ],
   "source": [
    "def manhattan_trips(trips, lookup):\n",
    "    # Returns a Dataframe with Schema: DOLocationID, pcount\n",
    "    \n",
    "    # Join to trip to lookup\n",
    "    df = trips.join(lookup, trips.DOLocationID == lookup.LocationID)\n",
    "    \n",
    "    # Filter for Borough = Manhattan\n",
    "    df_mnhtn = df.filter(df.Borough == 'Manhattan')\n",
    "    \n",
    "    # Sum passenger_count (pcount), group by DOLocation \n",
    "    res = df_mnhtn.groupBy('DOLocationID').agg({'passenger_count':'sum'}).withColumnRenamed('sum(passenger_count)', 'pcount')\n",
    "    \n",
    "    final_res = res.orderBy('pcount', ascending = False).head(20)\n",
    "\n",
    "    return spark.createDataFrame(final_res)"
   ]
  },
  {
   "cell_type": "markdown",
   "metadata": {},
   "source": [
    "## 3d. [6 pts] Update the `weighted_profit()` function\n",
    "This function should determine the average `total_amount`, the total count of trips, and the total count of trips ending in the top 20 destinations and return the `weighted_profit` as discussed in the homework document.\n",
    "\n",
    "Example output formatting:\n",
    "```\n",
    "+--------------+-------------------+\n",
    "| PULocationID |  weighted_profit  |\n",
    "+--------------+-------------------+\n",
    "|            18| 33.784444421924436| \n",
    "|            12| 21.124577637149223| \n",
    "+--------------+-------------------+\n",
    "```"
   ]
  },
  {
   "cell_type": "code",
   "execution_count": 6,
   "metadata": {},
   "outputs": [
    {
     "data": {
      "application/vnd.jupyter.widget-view+json": {
       "model_id": "7d72b38f96894cf19ff39f6b31065b57",
       "version_major": 2,
       "version_minor": 0
      },
      "text/plain": [
       "VBox()"
      ]
     },
     "metadata": {},
     "output_type": "display_data"
    },
    {
     "data": {
      "application/vnd.jupyter.widget-view+json": {
       "model_id": "",
       "version_major": 2,
       "version_minor": 0
      },
      "text/plain": [
       "FloatProgress(value=0.0, bar_style='info', description='Progress:', layout=Layout(height='25px', width='50%'),…"
      ]
     },
     "metadata": {},
     "output_type": "display_data"
    }
   ],
   "source": [
    "def weighted_profit(trips, mtrips): \n",
    "    # Returns a Dataframe with Schema: PULocationID, weighted_profit\n",
    "    # Note: Use decimal datatype for weighted profit (NOTE: DON'T USE FLOAT)\n",
    "    # Our grader will be only be checking the first 8 characters for each value in the dataframe\n",
    "    \n",
    "    \n",
    "    # Need to calculate: avg(total_amount), total count of trips, total count of trips ending in the top 20 destinations, weighted profit\n",
    "    # Weighted Profit =  (total count of trips ending in the top 20 destinations)/(total count of trips) * avg(total_amount)\n",
    "    # mtrips = top 20 destinations\n",
    "    \n",
    "    \n",
    "#     Calculate avg(total_amount) and total count of trips\n",
    "    PU_data = trips.groupBy('PULocationID').agg({'total_amount':'avg', 'VendorID': 'count'}) \\\n",
    "                .withColumnRenamed('avg(total_amount)', 'avg_cost') \\\n",
    "                .withColumnRenamed('count(VendorID)', 'total_trips')\n",
    "    \n",
    "#     Join trips with mtrips to on DOLocationID and summarize \n",
    "    mnhtn_DO = trips.join(mtrips, trips.DOLocationID == mtrips.DOLocationID)\n",
    "    DO_data = mnhtn_DO.groupBy('PULocationID').agg({'total_amount': 'count'}) \\\n",
    "                .withColumnRenamed('count(total_amount)', 'total_trips_topDO')\n",
    "        \n",
    "#     Left join DO_data to PU_data\n",
    "    df_join = PU_data.join(DO_data, PU_data.PULocationID == DO_data.PULocationID, how = 'left')\\\n",
    "                    .select(PU_data.PULocationID, PU_data.avg_cost, PU_data.total_trips, DO_data.total_trips_topDO)\n",
    "    df_join = df_join.fillna(0)  \n",
    "    \n",
    "#     Add weighted profit column\n",
    "    df_join = df_join.withColumn('weighted_profit', (col(\"total_trips_topDO\") / col(\"total_trips\")) * col(\"avg_cost\"))  \n",
    "    \n",
    "    return df_join.select('PULocationID', 'weighted_profit')"
   ]
  },
  {
   "cell_type": "markdown",
   "metadata": {},
   "source": [
    "## 3e. [5 pts] Update the `final_output()` function\n",
    "This function will take the results of `weighted_profit`, links it to the `borough` and `zone` and returns the top 20 locations with the highest `weighted_profit`.\n",
    "\n",
    "Example output formatting:\n",
    "```\n",
    "+------------+---------+-------------------+\n",
    "|    Zone    | Borough |  weighted_profit  |\n",
    "+----------------------+-------------------+\n",
    "| JFK Airport|   Queens|  16.95897820117925|\n",
    "|     Jamaica|   Queens| 14.879835188762488|\n",
    "+------------+---------+-------------------+\n",
    "```"
   ]
  },
  {
   "cell_type": "code",
   "execution_count": 40,
   "metadata": {},
   "outputs": [
    {
     "data": {
      "application/vnd.jupyter.widget-view+json": {
       "model_id": "14b4997ae9684315bd34548b313ef6ad",
       "version_major": 2,
       "version_minor": 0
      },
      "text/plain": [
       "VBox()"
      ]
     },
     "metadata": {},
     "output_type": "display_data"
    },
    {
     "data": {
      "application/vnd.jupyter.widget-view+json": {
       "model_id": "",
       "version_major": 2,
       "version_minor": 0
      },
      "text/plain": [
       "FloatProgress(value=0.0, bar_style='info', description='Progress:', layout=Layout(height='25px', width='50%'),…"
      ]
     },
     "metadata": {},
     "output_type": "display_data"
    }
   ],
   "source": [
    "def final_output(calc, lookup): \n",
    "    # Returns a Dataframe with Schema: Zone, Borough, weighted_profit\n",
    "    # Note: Use decimal datatype for weighted profit (NOTE: DON'T USE FLOAT)\n",
    "    # Our grader will be only be checking the first 8 characters for each value in the dataframe\n",
    "    \n",
    "    df_join = calc.join(lookup, calc.PULocationID==lookup.LocationID)\n",
    "    res = df_join.select('Zone', 'Borough', 'weighted_profit')\n",
    "    final_res = res.sort('weighted_profit', ascending = False).head(20)\n",
    "    \n",
    "    df = spark.createDataFrame(final_res)\n",
    "    final_df = df.sort(\"weighted_profit\", ascending = False)\n",
    "\n",
    "\n",
    "    return final_df.coalesce(1)\n",
    "\n",
    "# Try df.coalesce(1) if it doesn't work"
   ]
  },
  {
   "cell_type": "markdown",
   "metadata": {},
   "source": [
    "<div class=\"alert alert-block alert-info\">\n",
    "    Test your code on the small dataset first, as the large dataset will take a significantly longer time to run\n",
    "</div>\n",
    "\n",
    "<div class=\"alert alert-block alert-danger\">\n",
    "    WARNING: Do <strong>NOT</strong> use the same bucket url for multiple runs of the `main()` function, as this will cause errors. Make sure to change the name of your output location every time. (ie: s3://cse6242-gburdell3/output-small2)\n",
    "</div>\n",
    "\n",
    "Update the below cell with the path to your bucket, then run the below cell to run your code to store the results in S3.\n",
    "\n",
    "When you have confirmed the results of the small dataset, run it again using the large dataset. Your output file will appear in a folder in your s3 bucket called YOUROUTPUT.csv as a csv file with a name something like part-0000-4d992f7a-0ad3-48f8-8c72-0022984e4b50-c000.csv. Download this file and rename it to q3_output.csv for submission. Do not make any other changes to the file. "
   ]
  },
  {
   "cell_type": "code",
   "execution_count": null,
   "metadata": {},
   "outputs": [
    {
     "data": {
      "application/vnd.jupyter.widget-view+json": {
       "model_id": "8455d88e52f94d279e75693b79228b0e",
       "version_major": 2,
       "version_minor": 0
      },
      "text/plain": [
       "VBox()"
      ]
     },
     "metadata": {},
     "output_type": "display_data"
    },
    {
     "data": {
      "application/vnd.jupyter.widget-view+json": {
       "model_id": "6412fd6d3271476d88c6990b11bbb533",
       "version_major": 2,
       "version_minor": 0
      },
      "text/plain": [
       "FloatProgress(value=0.0, bar_style='info', description='Progress:', layout=Layout(height='25px', width='50%'),…"
      ]
     },
     "metadata": {},
     "output_type": "display_data"
    }
   ],
   "source": [
    "# update your bucket path\n",
    "# bucket = 's3://cse6242-icanlapan3/output-small3'\n",
    "# main('small', bucket)\n",
    "\n",
    "bucket = 's3://cse6242-icanlapan3/output-large'\n",
    "main('large', bucket)"
   ]
  },
  {
   "cell_type": "markdown",
   "metadata": {},
   "source": [
    "#### Testing\n",
    "\n",
    "<div class=\"alert alert-block alert-info\">\n",
    "    You may use the below cell for any additional testing you need to do, however any code implemented below will not be run or used when grading\n",
    "</div>"
   ]
  }
 ],
 "metadata": {
  "kernelspec": {
   "display_name": "PySpark",
   "language": "",
   "name": "pysparkkernel"
  },
  "language_info": {
   "codemirror_mode": {
    "name": "python",
    "version": 3
   },
   "mimetype": "text/x-python",
   "name": "pyspark",
   "pygments_lexer": "python3"
  }
 },
 "nbformat": 4,
 "nbformat_minor": 4
}
